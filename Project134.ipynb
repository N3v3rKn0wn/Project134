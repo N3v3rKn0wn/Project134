{
  "cells": [
    {
      "cell_type": "code",
      "execution_count": null,
      "metadata": {
        "id": "loHOhXGZVSoO"
      },
      "outputs": [],
      "source": [
        "import pandas as pd\n",
        "import matplotlib.pyplot as plt\n",
        "%matplotlib inline"
      ]
    },
    {
      "cell_type": "code",
      "execution_count": null,
      "metadata": {
        "id": "U5R-1RaJVSoR",
        "outputId": "19b27b91-a9e3-4195-ddfb-4edeb78acc18"
      },
      "outputs": [
        {
          "data": {
            "text/html": [
              "<div>\n",
              "<style scoped>\n",
              "    .dataframe tbody tr th:only-of-type {\n",
              "        vertical-align: middle;\n",
              "    }\n",
              "\n",
              "    .dataframe tbody tr th {\n",
              "        vertical-align: top;\n",
              "    }\n",
              "\n",
              "    .dataframe thead th {\n",
              "        text-align: right;\n",
              "    }\n",
              "</style>\n",
              "<table border=\"1\" class=\"dataframe\">\n",
              "  <thead>\n",
              "    <tr style=\"text-align: right;\">\n",
              "      <th></th>\n",
              "      <th>Unnamed: 0</th>\n",
              "      <th>Star_name</th>\n",
              "      <th>Distance</th>\n",
              "      <th>Mass</th>\n",
              "      <th>Radius</th>\n",
              "      <th>Gravity</th>\n",
              "    </tr>\n",
              "  </thead>\n",
              "  <tbody>\n",
              "    <tr>\n",
              "      <td>0</td>\n",
              "      <td>0</td>\n",
              "      <td>Sun</td>\n",
              "      <td>0.000016</td>\n",
              "      <td>1.0</td>\n",
              "      <td>1.00</td>\n",
              "      <td>274.269161</td>\n",
              "    </tr>\n",
              "    <tr>\n",
              "      <td>1</td>\n",
              "      <td>1</td>\n",
              "      <td>Sirius</td>\n",
              "      <td>8.600000</td>\n",
              "      <td>2.1</td>\n",
              "      <td>1.71</td>\n",
              "      <td>196.971800</td>\n",
              "    </tr>\n",
              "    <tr>\n",
              "      <td>2</td>\n",
              "      <td>2</td>\n",
              "      <td>Canopus</td>\n",
              "      <td>310.000000</td>\n",
              "      <td>15.0</td>\n",
              "      <td>71.00</td>\n",
              "      <td>0.816115</td>\n",
              "    </tr>\n",
              "    <tr>\n",
              "      <td>3</td>\n",
              "      <td>3</td>\n",
              "      <td>Alpha Centauri</td>\n",
              "      <td>4.400000</td>\n",
              "      <td>1.1</td>\n",
              "      <td>1.20</td>\n",
              "      <td>209.511165</td>\n",
              "    </tr>\n",
              "    <tr>\n",
              "      <td>4</td>\n",
              "      <td>4</td>\n",
              "      <td>Arcturus</td>\n",
              "      <td>37.000000</td>\n",
              "      <td>1.1</td>\n",
              "      <td>26.00</td>\n",
              "      <td>0.446296</td>\n",
              "    </tr>\n",
              "  </tbody>\n",
              "</table>\n",
              "</div>"
            ],
            "text/plain": [
              "   Unnamed: 0       Star_name    Distance  Mass  Radius     Gravity\n",
              "0           0             Sun    0.000016   1.0    1.00  274.269161\n",
              "1           1          Sirius    8.600000   2.1    1.71  196.971800\n",
              "2           2         Canopus  310.000000  15.0   71.00    0.816115\n",
              "3           3  Alpha Centauri    4.400000   1.1    1.20  209.511165\n",
              "4           4        Arcturus   37.000000   1.1   26.00    0.446296"
            ]
          },
          "execution_count": 24,
          "metadata": {},
          "output_type": "execute_result"
        }
      ],
      "source": [
        "df = pd.read_csv(\"star_with_gravity.csv\")\n",
        "\n",
        "df.head()\n"
      ]
    },
    {
      "cell_type": "code",
      "execution_count": null,
      "metadata": {
        "id": "cCZwjdITVSoS"
      },
      "outputs": [],
      "source": [
        "bools =[]\n",
        "for d in df.Distance:\n",
        "    if d<=100:\n",
        "        bools.append(True)\n",
        "    else:\n",
        "        bools.append(False)"
      ]
    },
    {
      "cell_type": "code",
      "execution_count": null,
      "metadata": {
        "id": "RW4pOjgHVSoT"
      },
      "outputs": [],
      "source": [
        "is_dist = pd.Series(bools)"
      ]
    },
    {
      "cell_type": "code",
      "execution_count": null,
      "metadata": {
        "id": "oo1y35EXVSoT",
        "outputId": "73aea286-550d-4f11-da85-e279d23ad675"
      },
      "outputs": [
        {
          "data": {
            "text/plain": [
              "0     True\n",
              "1     True\n",
              "2    False\n",
              "3     True\n",
              "4     True\n",
              "dtype: bool"
            ]
          },
          "execution_count": 65,
          "metadata": {},
          "output_type": "execute_result"
        }
      ],
      "source": [
        "is_dist.head()"
      ]
    },
    {
      "cell_type": "code",
      "execution_count": null,
      "metadata": {
        "id": "e_gFs-XVVSoU"
      },
      "outputs": [],
      "source": [
        "star_dist=df[is_dist]"
      ]
    },
    {
      "cell_type": "code",
      "execution_count": null,
      "metadata": {
        "id": "O3Ue_o1GVSoU",
        "outputId": "1c58daee-b0f3-4fe3-fff0-d11e5c2cf9b3"
      },
      "outputs": [
        {
          "data": {
            "text/html": [
              "<div>\n",
              "<style scoped>\n",
              "    .dataframe tbody tr th:only-of-type {\n",
              "        vertical-align: middle;\n",
              "    }\n",
              "\n",
              "    .dataframe tbody tr th {\n",
              "        vertical-align: top;\n",
              "    }\n",
              "\n",
              "    .dataframe thead th {\n",
              "        text-align: right;\n",
              "    }\n",
              "</style>\n",
              "<table border=\"1\" class=\"dataframe\">\n",
              "  <thead>\n",
              "    <tr style=\"text-align: right;\">\n",
              "      <th></th>\n",
              "      <th>Unnamed: 0</th>\n",
              "      <th>Star_name</th>\n",
              "      <th>Distance</th>\n",
              "      <th>Mass</th>\n",
              "      <th>Radius</th>\n",
              "      <th>Gravity</th>\n",
              "    </tr>\n",
              "  </thead>\n",
              "  <tbody>\n",
              "    <tr>\n",
              "      <td>0</td>\n",
              "      <td>0</td>\n",
              "      <td>Sun</td>\n",
              "      <td>0.000016</td>\n",
              "      <td>1.0</td>\n",
              "      <td>1.00</td>\n",
              "      <td>274.269161</td>\n",
              "    </tr>\n",
              "    <tr>\n",
              "      <td>1</td>\n",
              "      <td>1</td>\n",
              "      <td>Sirius</td>\n",
              "      <td>8.600000</td>\n",
              "      <td>2.1</td>\n",
              "      <td>1.71</td>\n",
              "      <td>196.971800</td>\n",
              "    </tr>\n",
              "    <tr>\n",
              "      <td>2</td>\n",
              "      <td>3</td>\n",
              "      <td>Alpha Centauri</td>\n",
              "      <td>4.400000</td>\n",
              "      <td>1.1</td>\n",
              "      <td>1.20</td>\n",
              "      <td>209.511165</td>\n",
              "    </tr>\n",
              "    <tr>\n",
              "      <td>3</td>\n",
              "      <td>4</td>\n",
              "      <td>Arcturus</td>\n",
              "      <td>37.000000</td>\n",
              "      <td>1.1</td>\n",
              "      <td>26.00</td>\n",
              "      <td>0.446296</td>\n",
              "    </tr>\n",
              "    <tr>\n",
              "      <td>4</td>\n",
              "      <td>5</td>\n",
              "      <td>Vega</td>\n",
              "      <td>25.000000</td>\n",
              "      <td>2.2</td>\n",
              "      <td>2.70</td>\n",
              "      <td>82.769843</td>\n",
              "    </tr>\n",
              "  </tbody>\n",
              "</table>\n",
              "</div>"
            ],
            "text/plain": [
              "   Unnamed: 0       Star_name   Distance  Mass  Radius     Gravity\n",
              "0           0             Sun   0.000016   1.0    1.00  274.269161\n",
              "1           1          Sirius   8.600000   2.1    1.71  196.971800\n",
              "2           3  Alpha Centauri   4.400000   1.1    1.20  209.511165\n",
              "3           4        Arcturus  37.000000   1.1   26.00    0.446296\n",
              "4           5            Vega  25.000000   2.2    2.70   82.769843"
            ]
          },
          "execution_count": 98,
          "metadata": {},
          "output_type": "execute_result"
        }
      ],
      "source": [
        "star_dist.reset_index(inplace=True,drop=True)\n",
        "star_dist.head()"
      ]
    },
    {
      "cell_type": "code",
      "execution_count": null,
      "metadata": {
        "id": "Uu0mhBRRVSoV",
        "outputId": "8dbee8f7-e074-4bf7-bad9-f3a7fa3ccdf8"
      },
      "outputs": [
        {
          "data": {
            "text/plain": [
              "(159, 6)"
            ]
          },
          "execution_count": 99,
          "metadata": {},
          "output_type": "execute_result"
        }
      ],
      "source": [
        "star_dist.shape"
      ]
    },
    {
      "cell_type": "code",
      "execution_count": null,
      "metadata": {
        "id": "AeSO5HvAVSoW"
      },
      "outputs": [],
      "source": [
        "gravity_bool = []\n",
        "for g in star_dist.Gravity:\n",
        "    if g<=350 and g>=150:\n",
        "        gravity_bool.append(True)\n",
        "    else :\n",
        "        gravity_bool.append(False)"
      ]
    },
    {
      "cell_type": "code",
      "execution_count": null,
      "metadata": {
        "id": "0XCLfoEDVSoW"
      },
      "outputs": [],
      "source": [
        "is_gravity = pd.Series(gravity_bool)"
      ]
    },
    {
      "cell_type": "code",
      "execution_count": null,
      "metadata": {
        "id": "NLLAh0LiVSoX",
        "outputId": "e072171e-be98-4922-bc9f-816d946db3ce"
      },
      "outputs": [
        {
          "data": {
            "text/html": [
              "<div>\n",
              "<style scoped>\n",
              "    .dataframe tbody tr th:only-of-type {\n",
              "        vertical-align: middle;\n",
              "    }\n",
              "\n",
              "    .dataframe tbody tr th {\n",
              "        vertical-align: top;\n",
              "    }\n",
              "\n",
              "    .dataframe thead th {\n",
              "        text-align: right;\n",
              "    }\n",
              "</style>\n",
              "<table border=\"1\" class=\"dataframe\">\n",
              "  <thead>\n",
              "    <tr style=\"text-align: right;\">\n",
              "      <th></th>\n",
              "      <th>Unnamed: 0</th>\n",
              "      <th>Star_name</th>\n",
              "      <th>Distance</th>\n",
              "      <th>Mass</th>\n",
              "      <th>Radius</th>\n",
              "      <th>Gravity</th>\n",
              "    </tr>\n",
              "  </thead>\n",
              "  <tbody>\n",
              "    <tr>\n",
              "      <td>0</td>\n",
              "      <td>0</td>\n",
              "      <td>Sun</td>\n",
              "      <td>0.000016</td>\n",
              "      <td>1.0</td>\n",
              "      <td>1.00</td>\n",
              "      <td>274.269161</td>\n",
              "    </tr>\n",
              "    <tr>\n",
              "      <td>1</td>\n",
              "      <td>1</td>\n",
              "      <td>Sirius</td>\n",
              "      <td>8.600000</td>\n",
              "      <td>2.1</td>\n",
              "      <td>1.71</td>\n",
              "      <td>196.971800</td>\n",
              "    </tr>\n",
              "    <tr>\n",
              "      <td>2</td>\n",
              "      <td>3</td>\n",
              "      <td>Alpha Centauri</td>\n",
              "      <td>4.400000</td>\n",
              "      <td>1.1</td>\n",
              "      <td>1.20</td>\n",
              "      <td>209.511165</td>\n",
              "    </tr>\n",
              "    <tr>\n",
              "      <td>7</td>\n",
              "      <td>12</td>\n",
              "      <td>Altair</td>\n",
              "      <td>17.000000</td>\n",
              "      <td>1.8</td>\n",
              "      <td>1.80</td>\n",
              "      <td>152.371756</td>\n",
              "    </tr>\n",
              "    <tr>\n",
              "      <td>10</td>\n",
              "      <td>18</td>\n",
              "      <td>Fomalhaut</td>\n",
              "      <td>25.000000</td>\n",
              "      <td>1.9</td>\n",
              "      <td>1.80</td>\n",
              "      <td>160.836854</td>\n",
              "    </tr>\n",
              "  </tbody>\n",
              "</table>\n",
              "</div>"
            ],
            "text/plain": [
              "    Unnamed: 0       Star_name   Distance  Mass  Radius     Gravity\n",
              "0            0             Sun   0.000016   1.0    1.00  274.269161\n",
              "1            1          Sirius   8.600000   2.1    1.71  196.971800\n",
              "2            3  Alpha Centauri   4.400000   1.1    1.20  209.511165\n",
              "7           12          Altair  17.000000   1.8    1.80  152.371756\n",
              "10          18       Fomalhaut  25.000000   1.9    1.80  160.836854"
            ]
          },
          "execution_count": 102,
          "metadata": {},
          "output_type": "execute_result"
        }
      ],
      "source": [
        "final_stars = star_dist[is_gravity]\n",
        "final_stars.head()"
      ]
    },
    {
      "cell_type": "code",
      "execution_count": null,
      "metadata": {
        "id": "l_85T61WVSoX",
        "outputId": "47ed5095-36b4-429e-b5e3-32b87962e1b7"
      },
      "outputs": [
        {
          "data": {
            "text/plain": [
              "(21, 6)"
            ]
          },
          "execution_count": 103,
          "metadata": {},
          "output_type": "execute_result"
        }
      ],
      "source": [
        "final_stars.shape"
      ]
    },
    {
      "cell_type": "code",
      "execution_count": null,
      "metadata": {
        "id": "1sYW1QSNVSoY"
      },
      "outputs": [],
      "source": [
        "final_stars.reset_index(inplace=True,drop=True)"
      ]
    },
    {
      "cell_type": "code",
      "execution_count": null,
      "metadata": {
        "id": "2-qUNqrFVSoY",
        "outputId": "10e5acf6-de65-485a-9bca-a6241270bb66"
      },
      "outputs": [
        {
          "data": {
            "text/html": [
              "<div>\n",
              "<style scoped>\n",
              "    .dataframe tbody tr th:only-of-type {\n",
              "        vertical-align: middle;\n",
              "    }\n",
              "\n",
              "    .dataframe tbody tr th {\n",
              "        vertical-align: top;\n",
              "    }\n",
              "\n",
              "    .dataframe thead th {\n",
              "        text-align: right;\n",
              "    }\n",
              "</style>\n",
              "<table border=\"1\" class=\"dataframe\">\n",
              "  <thead>\n",
              "    <tr style=\"text-align: right;\">\n",
              "      <th></th>\n",
              "      <th>Unnamed: 0</th>\n",
              "      <th>Star_name</th>\n",
              "      <th>Distance</th>\n",
              "      <th>Mass</th>\n",
              "      <th>Radius</th>\n",
              "      <th>Gravity</th>\n",
              "    </tr>\n",
              "  </thead>\n",
              "  <tbody>\n",
              "    <tr>\n",
              "      <td>0</td>\n",
              "      <td>0</td>\n",
              "      <td>Sun</td>\n",
              "      <td>0.000016</td>\n",
              "      <td>1.0</td>\n",
              "      <td>1.00</td>\n",
              "      <td>274.269161</td>\n",
              "    </tr>\n",
              "    <tr>\n",
              "      <td>1</td>\n",
              "      <td>1</td>\n",
              "      <td>Sirius</td>\n",
              "      <td>8.600000</td>\n",
              "      <td>2.1</td>\n",
              "      <td>1.71</td>\n",
              "      <td>196.971800</td>\n",
              "    </tr>\n",
              "    <tr>\n",
              "      <td>2</td>\n",
              "      <td>3</td>\n",
              "      <td>Alpha Centauri</td>\n",
              "      <td>4.400000</td>\n",
              "      <td>1.1</td>\n",
              "      <td>1.20</td>\n",
              "      <td>209.511165</td>\n",
              "    </tr>\n",
              "    <tr>\n",
              "      <td>3</td>\n",
              "      <td>12</td>\n",
              "      <td>Altair</td>\n",
              "      <td>17.000000</td>\n",
              "      <td>1.8</td>\n",
              "      <td>1.80</td>\n",
              "      <td>152.371756</td>\n",
              "    </tr>\n",
              "    <tr>\n",
              "      <td>4</td>\n",
              "      <td>18</td>\n",
              "      <td>Fomalhaut</td>\n",
              "      <td>25.000000</td>\n",
              "      <td>1.9</td>\n",
              "      <td>1.80</td>\n",
              "      <td>160.836854</td>\n",
              "    </tr>\n",
              "  </tbody>\n",
              "</table>\n",
              "</div>"
            ],
            "text/plain": [
              "   Unnamed: 0       Star_name   Distance  Mass  Radius     Gravity\n",
              "0           0             Sun   0.000016   1.0    1.00  274.269161\n",
              "1           1          Sirius   8.600000   2.1    1.71  196.971800\n",
              "2           3  Alpha Centauri   4.400000   1.1    1.20  209.511165\n",
              "3          12          Altair  17.000000   1.8    1.80  152.371756\n",
              "4          18       Fomalhaut  25.000000   1.9    1.80  160.836854"
            ]
          },
          "execution_count": 105,
          "metadata": {},
          "output_type": "execute_result"
        }
      ],
      "source": [
        "final_stars.head()"
      ]
    },
    {
      "cell_type": "code",
      "execution_count": null,
      "metadata": {
        "id": "6zIhmndnVSoY"
      },
      "outputs": [],
      "source": [
        "final_stars.to_csv(\"filtered_stars.csv\")"
      ]
    },
    {
      "cell_type": "code",
      "execution_count": null,
      "metadata": {
        "id": "yijrtYmzVSoY"
      },
      "outputs": [],
      "source": [
        ""
      ]
    }
  ],
  "metadata": {
    "kernelspec": {
      "display_name": "Python 3",
      "language": "python",
      "name": "python3"
    },
    "language_info": {
      "codemirror_mode": {
        "name": "ipython",
        "version": 3
      },
      "file_extension": ".py",
      "mimetype": "text/x-python",
      "name": "python",
      "nbconvert_exporter": "python",
      "pygments_lexer": "ipython3",
      "version": "3.7.4"
    },
    "colab": {
      "name": "Project134",
      "provenance": []
    }
  },
  "nbformat": 4,
  "nbformat_minor": 0
}